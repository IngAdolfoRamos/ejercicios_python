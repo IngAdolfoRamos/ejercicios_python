{
 "cells": [
  {
   "cell_type": "code",
   "execution_count": 6,
   "id": "3b0ff36b",
   "metadata": {},
   "outputs": [
    {
     "name": "stdout",
     "output_type": "stream",
     "text": [
      "Ingrese el coeficiente de la variable cuadrática\n",
      "1\n",
      "Ingrese el coeficiente de la variable lineal\n",
      "-5\n",
      "Ingrese el término independiente\n",
      "6\n",
      "Las soluciones de la ecuación son:\n",
      "x1 = 3.0\n",
      "x2 = 2.0 \n"
     ]
    },
    {
     "data": {
      "text/plain": [
       "<__main__.Ecuaciones2Grado at 0x19b0889dac0>"
      ]
     },
     "execution_count": 6,
     "metadata": {},
     "output_type": "execute_result"
    }
   ],
   "source": [
    "from math import sqrt\n",
    "class Ecuaciones2Grado():\n",
    "    def __init__(self):\n",
    "        self.interfaz()\n",
    "    def calcular(self, A, B, C):\n",
    "        if ((B**2)-4*A*C) < 0:\n",
    "            print(\"La solución de la ecuación es con números complejos\")\n",
    "        else:\n",
    "            x1 = (-B+sqrt(B**2-(4*A*C)))/(2*A)\n",
    "            x2 = (-B-sqrt(B**2-(4*A*C)))/(2*A)\n",
    "            print(\"\"\"\\\n",
    "Las soluciones de la ecuación son:\n",
    "x1 = {}\n",
    "x2 = {} \"\"\".format(x1, x2))\n",
    "    def interfaz(self):\n",
    "        A = int(input(\"Ingrese el coeficiente de la variable cuadrática\\n\"))\n",
    "        B = int(input(\"Ingrese el coeficiente de la variable lineal\\n\"))\n",
    "        C = int(input(\"Ingrese el término independiente\\n\"))\n",
    "        \n",
    "        self.calcular(A, B, C)\n",
    "Ecuaciones2Grado()"
   ]
  },
  {
   "cell_type": "code",
   "execution_count": null,
   "id": "af46b0a9",
   "metadata": {},
   "outputs": [],
   "source": []
  }
 ],
 "metadata": {
  "kernelspec": {
   "display_name": "Python 3",
   "language": "python",
   "name": "python3"
  },
  "language_info": {
   "codemirror_mode": {
    "name": "ipython",
    "version": 3
   },
   "file_extension": ".py",
   "mimetype": "text/x-python",
   "name": "python",
   "nbconvert_exporter": "python",
   "pygments_lexer": "ipython3",
   "version": "3.8.8"
  }
 },
 "nbformat": 4,
 "nbformat_minor": 5
}
