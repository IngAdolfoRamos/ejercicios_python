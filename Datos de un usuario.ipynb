{
 "cells": [
  {
   "cell_type": "code",
   "execution_count": null,
   "id": "6da9ae80",
   "metadata": {},
   "outputs": [],
   "source": [
    "nombre=input('Buenas tardes, dime tu nombre: ')\n",
    "telefono=input('Cual es tu numero: ')\n",
    "correo=input ('Cual es tu correo')\n",
    "\n",
    "print (\"Bienvenida\", nombre)\n",
    "print (\"Tu telefono es:\", telefono)\n",
    "print (\"Tu correo es:\", correo)"
   ]
  },
  {
   "cell_type": "code",
   "execution_count": null,
   "id": "200e38a9",
   "metadata": {},
   "outputs": [],
   "source": []
  },
  {
   "cell_type": "code",
   "execution_count": null,
   "id": "7fbea884",
   "metadata": {},
   "outputs": [],
   "source": []
  }
 ],
 "metadata": {
  "kernelspec": {
   "display_name": "Python 3",
   "language": "python",
   "name": "python3"
  },
  "language_info": {
   "codemirror_mode": {
    "name": "ipython",
    "version": 3
   },
   "file_extension": ".py",
   "mimetype": "text/x-python",
   "name": "python",
   "nbconvert_exporter": "python",
   "pygments_lexer": "ipython3",
   "version": "3.8.8"
  }
 },
 "nbformat": 4,
 "nbformat_minor": 5
}
