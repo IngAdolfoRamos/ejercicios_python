{
 "cells": [
  {
   "cell_type": "code",
   "execution_count": 9,
   "id": "8e44c05b",
   "metadata": {},
   "outputs": [
    {
     "name": "stdout",
     "output_type": "stream",
     "text": [
      "Ingresa una palabra o una frase:Sistemas basados en conocimiento\n"
     ]
    },
    {
     "data": {
      "text/plain": [
       "'otneimiconoc ne sodasab sametsiS'"
      ]
     },
     "execution_count": 9,
     "metadata": {},
     "output_type": "execute_result"
    }
   ],
   "source": [
    "def reverse1():\n",
    "    s=input(\"Ingresa una palabra o una frase:\")\n",
    "    return s[::-1]\n",
    "reverse1()"
   ]
  },
  {
   "cell_type": "code",
   "execution_count": null,
   "id": "3e608cad",
   "metadata": {},
   "outputs": [],
   "source": []
  }
 ],
 "metadata": {
  "kernelspec": {
   "display_name": "Python 3",
   "language": "python",
   "name": "python3"
  },
  "language_info": {
   "codemirror_mode": {
    "name": "ipython",
    "version": 3
   },
   "file_extension": ".py",
   "mimetype": "text/x-python",
   "name": "python",
   "nbconvert_exporter": "python",
   "pygments_lexer": "ipython3",
   "version": "3.8.8"
  }
 },
 "nbformat": 4,
 "nbformat_minor": 5
}
