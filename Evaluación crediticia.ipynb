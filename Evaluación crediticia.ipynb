{
 "cells": [
  {
   "cell_type": "code",
   "execution_count": 6,
   "id": "fc15fe63",
   "metadata": {},
   "outputs": [
    {
     "name": "stdout",
     "output_type": "stream",
     "text": [
      "Ingresa el valor de edad: 25\n",
      "Ingresa el valor de egresos: 300\n",
      "Ingresa el valor de ingresos: 1000\n",
      "Ingresa el valor de monto pedido: 600\n",
      "Ingresa el valor de numero de meses: 3\n",
      "Aprobado\n",
      "Valor de cuota: 200.0\n",
      "\n"
     ]
    },
    {
     "data": {
      "text/plain": [
       "0"
      ]
     },
     "execution_count": 6,
     "metadata": {},
     "output_type": "execute_result"
    }
   ],
   "source": [
    "import os\n",
    "\n",
    "edad = float (input ('Ingresa el valor de edad: '))\n",
    "egresos = float (input ('Ingresa el valor de egresos: '))\n",
    "ingresos = float (input ('Ingresa el valor de ingresos: '))\n",
    "monto_pedido = float (input ('Ingresa el valor de monto pedido: '))\n",
    "numero_de_meses = float (input ('Ingresa el valor de numero de meses: '))\n",
    "cuota=monto_pedido/numero_de_meses\n",
    "if edad>=18 and ingresos-egresos>cuota:\n",
    "    print ('Aprobado')\n",
    "else:\n",
    "    print ('Rechazado')\n",
    "print ('Valor de cuota: ' + repr (cuota))\n",
    "print ()\n",
    "os.system ('pause')\n"
   ]
  },
  {
   "cell_type": "code",
   "execution_count": null,
   "id": "1c0aa5f8",
   "metadata": {},
   "outputs": [],
   "source": []
  }
 ],
 "metadata": {
  "kernelspec": {
   "display_name": "Python 3",
   "language": "python",
   "name": "python3"
  },
  "language_info": {
   "codemirror_mode": {
    "name": "ipython",
    "version": 3
   },
   "file_extension": ".py",
   "mimetype": "text/x-python",
   "name": "python",
   "nbconvert_exporter": "python",
   "pygments_lexer": "ipython3",
   "version": "3.8.8"
  }
 },
 "nbformat": 4,
 "nbformat_minor": 5
}
