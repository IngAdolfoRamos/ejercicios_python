{
 "cells": [
  {
   "cell_type": "code",
   "execution_count": 1,
   "id": "b644fa3b",
   "metadata": {},
   "outputs": [
    {
     "name": "stdout",
     "output_type": "stream",
     "text": [
      "cantidad de resistencias?: 2\n",
      "R7100\n",
      "R7100\n",
      "Resistencia equivalente 50.0\n"
     ]
    }
   ],
   "source": [
    "Rt=0\n",
    "n=int(input(\"cantidad de resistencias?: \"))\n",
    "for x in range (1,n+1):\n",
    "    R=float(input (\"R7\"))\n",
    "    Rt=Rt+(1/R)\n",
    "Req=1/Rt\n",
    "print(\"Resistencia equivalente\",Req)"
   ]
  },
  {
   "cell_type": "code",
   "execution_count": null,
   "id": "ea935dbe",
   "metadata": {},
   "outputs": [],
   "source": []
  }
 ],
 "metadata": {
  "kernelspec": {
   "display_name": "Python 3",
   "language": "python",
   "name": "python3"
  },
  "language_info": {
   "codemirror_mode": {
    "name": "ipython",
    "version": 3
   },
   "file_extension": ".py",
   "mimetype": "text/x-python",
   "name": "python",
   "nbconvert_exporter": "python",
   "pygments_lexer": "ipython3",
   "version": "3.8.8"
  }
 },
 "nbformat": 4,
 "nbformat_minor": 5
}
